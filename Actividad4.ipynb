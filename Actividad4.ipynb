{
  "nbformat": 4,
  "nbformat_minor": 0,
  "metadata": {
    "colab": {
      "provenance": []
    },
    "kernelspec": {
      "name": "python3",
      "display_name": "Python 3"
    },
    "language_info": {
      "name": "python"
    }
  },
  "cells": [
    {
      "cell_type": "markdown",
      "source": [
        "**Actividad Semanal 4**\n",
        "\n",
        "por:\n",
        "\n",
        "Mario Alberto Sangines Estala A01328170\n",
        "\n",
        "Héctor Raúl Vázquez Gonzaléz A00565542"
      ],
      "metadata": {
        "id": "vQk0jKvUKaqJ"
      }
    },
    {
      "cell_type": "markdown",
      "source": [
        "El objetivo de esta actividad es el cálculo de las PCA de una base de datos que se nos provee.\n",
        "\n",
        "El primer paso que haremos será recuperar la BD, después se va a realizar una limpieza de datos. Para luego llevar a cabo el proceso del cálculo del PCA. Y por último, la identificaciòn de datos atípicos."
      ],
      "metadata": {
        "id": "X2JjaDg8KtNB"
      }
    },
    {
      "cell_type": "markdown",
      "source": [
        "1.- Recuperación de la información"
      ],
      "metadata": {
        "id": "HIULIR1OL7rP"
      }
    },
    {
      "cell_type": "code",
      "source": [
        "#Se importan las librerías que se necesitarán\n",
        "import pandas as pd\n",
        "import numpy as np\n",
        "import matplotlib.pyplot as plt\n",
        "import seaborn as sns\n",
        "from sklearn.decomposition import PCA\n",
        "import matplotlib as mpl\n",
        "import matplotlib.pyplot as plt\n",
        "from sklearn import preprocessing\n",
        "'''\n",
        "from sklearn.pipeline import Pipeline\n",
        "from sklearn.compose import ColumnTransformer\n",
        "from sklearn.impute import SimpleImputer\n",
        "from sklearn.preprocessing import MinMaxScaler, OneHotEncoder\n",
        "\n",
        "\n",
        "from sklearn.linear_model import LogisticRegression\n",
        "from sklearn.tree import DecisionTreeClassifier\n",
        "from sklearn.neural_network import MLPClassifier\n",
        "from sklearn.neighbors import KNeighborsClassifier\n",
        "from sklearn.svm import SVC\n",
        "\n",
        "from sklearn.model_selection import cross_val_score\n",
        "from sklearn.model_selection import RepeatedStratifiedKFold'''"
      ],
      "metadata": {
        "id": "76ZYw6FCUhyR",
        "colab": {
          "base_uri": "https://localhost:8080/",
          "height": 70
        },
        "outputId": "71416b10-7224-447d-ea9c-cf34fe187a49"
      },
      "execution_count": 27,
      "outputs": [
        {
          "output_type": "execute_result",
          "data": {
            "text/plain": [
              "'\\nfrom sklearn.pipeline import Pipeline\\nfrom sklearn.compose import ColumnTransformer\\nfrom sklearn.impute import SimpleImputer\\nfrom sklearn.preprocessing import MinMaxScaler, OneHotEncoder\\n\\n\\nfrom sklearn.linear_model import LogisticRegression\\nfrom sklearn.tree import DecisionTreeClassifier\\nfrom sklearn.neural_network import MLPClassifier\\nfrom sklearn.neighbors import KNeighborsClassifier\\nfrom sklearn.svm import SVC\\n\\nfrom sklearn.model_selection import cross_val_score\\nfrom sklearn.model_selection import RepeatedStratifiedKFold'"
            ],
            "application/vnd.google.colaboratory.intrinsic+json": {
              "type": "string"
            }
          },
          "metadata": {},
          "execution_count": 27
        }
      ]
    },
    {
      "cell_type": "code",
      "source": [
        "\n",
        "\n",
        "#Se recupera la información de la BD y se guarda en una variable\n",
        "info = \"https://raw.githubusercontent.com/PosgradoMNA/Actividades_Aprendizaje-/main/default%20of%20credit%20card%20clients.csv\"\n",
        "\n",
        "#La informaciòn se transfiere a un Dataframe de pandas para trabajar de una manera más fácil\n",
        "df = pd.read_csv(info)\n",
        "\n",
        "#Se verifica si la información contiene algunos nulos\n",
        "df.isnull().any()"
      ],
      "metadata": {
        "colab": {
          "base_uri": "https://localhost:8080/"
        },
        "id": "9_IoD4c6MamC",
        "outputId": "20920d42-d88c-4e38-e1a4-b579abd93ca1"
      },
      "execution_count": 28,
      "outputs": [
        {
          "output_type": "execute_result",
          "data": {
            "text/plain": [
              "ID     False\n",
              "X1     False\n",
              "X2      True\n",
              "X3      True\n",
              "X4      True\n",
              "X5      True\n",
              "X6      True\n",
              "X7      True\n",
              "X8      True\n",
              "X9      True\n",
              "X10     True\n",
              "X11     True\n",
              "X12     True\n",
              "X13     True\n",
              "X14     True\n",
              "X15     True\n",
              "X16     True\n",
              "X17     True\n",
              "X18     True\n",
              "X19     True\n",
              "X20     True\n",
              "X21     True\n",
              "X22     True\n",
              "X23     True\n",
              "Y       True\n",
              "dtype: bool"
            ]
          },
          "metadata": {},
          "execution_count": 28
        }
      ]
    },
    {
      "cell_type": "markdown",
      "source": [
        "**2.- Limpieza de Datos**"
      ],
      "metadata": {
        "id": "FAfpAklDT1rM"
      }
    },
    {
      "cell_type": "markdown",
      "source": [
        "Ahora, la técnica a utilizar será la de rellenar los espacios nulos con el promedio o la moda, según el caso más conveniente. Se ha acordado que las columnas x1,x5-x23 sean rellenadas con el promedio y las columnas x2-x4 con la moda."
      ],
      "metadata": {
        "id": "zwamTeEqNYDw"
      }
    },
    {
      "cell_type": "code",
      "source": [
        "from os import truncate\n",
        "newDF = df.copy() #Se hace una copia del DataFarme\n",
        "print(\"Total de Registros: \"+ str(len(newDF)))\n",
        "\n",
        "\n",
        "\n",
        "def llenaPromedio():\n",
        "  for c in range(5,24):\n",
        "    newDF[\"X\"+str(c)].fillna(value = newDF[\"X\"+str(c)].mean(), inplace = True)\n",
        "\n",
        "def llenaMedian():\n",
        "  for c in range(2,5):\n",
        "    newDF[\"X\"+str(c)].fillna(value = newDF[\"X\"+str(c)].median(), inplace = True)\n",
        "    \n",
        "\n",
        "\n",
        "llenaPromedio()\n",
        "llenaMedian()\n",
        "\n",
        "print(\"Total de Registros después de eliminar los nulos: \"+ str(len(newDF)))\n",
        "newDF.isnull().any() #Se checa si el dataframe aún tiene registros nulos"
      ],
      "metadata": {
        "colab": {
          "base_uri": "https://localhost:8080/"
        },
        "id": "qVfH29dXOFIh",
        "outputId": "b18bb48e-17dc-4c30-a077-d40056c54fab"
      },
      "execution_count": 53,
      "outputs": [
        {
          "output_type": "stream",
          "name": "stdout",
          "text": [
            "Total de Registros: 30000\n",
            "Total de Registros después de eliminar los nulos: 30000\n"
          ]
        },
        {
          "output_type": "execute_result",
          "data": {
            "text/plain": [
              "ID     False\n",
              "X1     False\n",
              "X2     False\n",
              "X3     False\n",
              "X4     False\n",
              "X5     False\n",
              "X6     False\n",
              "X7     False\n",
              "X8     False\n",
              "X9     False\n",
              "X10    False\n",
              "X11    False\n",
              "X12    False\n",
              "X13    False\n",
              "X14    False\n",
              "X15    False\n",
              "X16    False\n",
              "X17    False\n",
              "X18    False\n",
              "X19    False\n",
              "X20    False\n",
              "X21    False\n",
              "X22    False\n",
              "X23    False\n",
              "Y       True\n",
              "dtype: bool"
            ]
          },
          "metadata": {},
          "execution_count": 53
        }
      ]
    },
    {
      "cell_type": "markdown",
      "source": [
        "Vamos a eliminar las Columnas Categóricas, las cuales son:\n",
        "\n",
        "x2: Género\n",
        "\n",
        "x3: Educaión\n",
        "\n",
        "x4: Estado Civil\n",
        "\n",
        "Y: Resultado (Aprovado/No Aprovado)"
      ],
      "metadata": {
        "id": "slmR--lJSUfp"
      }
    },
    {
      "cell_type": "code",
      "source": [
        "newDF.drop([\"X2\",\"X3\",\"X4\",\"Y\"],axis=1, inplace = True) #Este código solo se puede correr una vez.\n"
      ],
      "metadata": {
        "id": "KAK20DLRSmtj"
      },
      "execution_count": 30,
      "outputs": []
    },
    {
      "cell_type": "code",
      "source": [
        "newDF.head()\n",
        "newDF.isnull().any()"
      ],
      "metadata": {
        "colab": {
          "base_uri": "https://localhost:8080/"
        },
        "id": "H3SpSftAWa6J",
        "outputId": "3bf98ff9-1a7a-4dd2-d680-cab3abb3b938"
      },
      "execution_count": 31,
      "outputs": [
        {
          "output_type": "execute_result",
          "data": {
            "text/plain": [
              "ID     False\n",
              "X1     False\n",
              "X5     False\n",
              "X6     False\n",
              "X7     False\n",
              "X8     False\n",
              "X9     False\n",
              "X10    False\n",
              "X11    False\n",
              "X12    False\n",
              "X13    False\n",
              "X14    False\n",
              "X15    False\n",
              "X16    False\n",
              "X17    False\n",
              "X18    False\n",
              "X19    False\n",
              "X20    False\n",
              "X21    False\n",
              "X22    False\n",
              "X23    False\n",
              "dtype: bool"
            ]
          },
          "metadata": {},
          "execution_count": 31
        }
      ]
    },
    {
      "cell_type": "markdown",
      "source": [
        "**3.- Cálculo de PCA**"
      ],
      "metadata": {
        "id": "bYbCXc-ETyWJ"
      }
    },
    {
      "cell_type": "markdown",
      "source": [
        "Se comienza por calcular las variaciones starndart por columna"
      ],
      "metadata": {
        "id": "q5GL7IsiUASQ"
      }
    },
    {
      "cell_type": "code",
      "source": [
        "pcs = PCA()\n",
        "pcs.fit(newDF)\n",
        "pcsSummary_df = pd.DataFrame({'Standard deviation': np.sqrt(pcs.explained_variance_),\n",
        "                             'Proportion of variance': pcs.explained_variance_ratio_,\n",
        "                             'Cumulative proportion': np.cumsum(pcs.explained_variance_ratio_)\n",
        "                             })\n",
        "pcsSummary_df = pcsSummary_df.transpose()\n",
        "pcsSummary_df.columns = ['PC{}'.format(i) for i in range(1, len(pcsSummary_df.columns) + 1)]\n",
        "pcsSummary_df.round(4) "
      ],
      "metadata": {
        "colab": {
          "base_uri": "https://localhost:8080/",
          "height": 173
        },
        "id": "b7xVxu3FVrwW",
        "outputId": "1a27c1cc-1eb1-41b7-c783-f35d4e132ae1"
      },
      "execution_count": 32,
      "outputs": [
        {
          "output_type": "execute_result",
          "data": {
            "text/plain": [
              "                                PC1          PC2         PC3         PC4  \\\n",
              "Standard deviation      166510.7329  115825.4668  37235.1525  27730.2171   \n",
              "Proportion of variance       0.6094       0.2949      0.0305      0.0169   \n",
              "Cumulative proportion        0.6094       0.9043      0.9348      0.9517   \n",
              "\n",
              "                               PC5         PC6         PC7         PC8  \\\n",
              "Standard deviation      20687.3224  20270.2074  18512.5349  17031.7564   \n",
              "Proportion of variance      0.0094      0.0090      0.0075      0.0064   \n",
              "Cumulative proportion       0.9611      0.9701      0.9776      0.9840   \n",
              "\n",
              "                               PC9        PC10  ...       PC12       PC13  \\\n",
              "Standard deviation      16283.1134  11617.8086  ...  8791.4592  8691.5547   \n",
              "Proportion of variance      0.0058      0.0030  ...     0.0017     0.0017   \n",
              "Cumulative proportion       0.9898      0.9928  ...     0.9969     0.9986   \n",
              "\n",
              "                             PC14    PC15    PC16    PC17   PC18    PC19  \\\n",
              "Standard deviation      8108.4387  9.1157  2.0623  0.9394  0.732  0.5963   \n",
              "Proportion of variance     0.0014  0.0000  0.0000  0.0000  0.000  0.0000   \n",
              "Cumulative proportion      1.0000  1.0000  1.0000  1.0000  1.000  1.0000   \n",
              "\n",
              "                          PC20    PC21  \n",
              "Standard deviation      0.5123  0.4184  \n",
              "Proportion of variance  0.0000  0.0000  \n",
              "Cumulative proportion   1.0000  1.0000  \n",
              "\n",
              "[3 rows x 21 columns]"
            ],
            "text/html": [
              "\n",
              "  <div id=\"df-6480c555-cc3e-4e74-be6f-dca33186b82a\">\n",
              "    <div class=\"colab-df-container\">\n",
              "      <div>\n",
              "<style scoped>\n",
              "    .dataframe tbody tr th:only-of-type {\n",
              "        vertical-align: middle;\n",
              "    }\n",
              "\n",
              "    .dataframe tbody tr th {\n",
              "        vertical-align: top;\n",
              "    }\n",
              "\n",
              "    .dataframe thead th {\n",
              "        text-align: right;\n",
              "    }\n",
              "</style>\n",
              "<table border=\"1\" class=\"dataframe\">\n",
              "  <thead>\n",
              "    <tr style=\"text-align: right;\">\n",
              "      <th></th>\n",
              "      <th>PC1</th>\n",
              "      <th>PC2</th>\n",
              "      <th>PC3</th>\n",
              "      <th>PC4</th>\n",
              "      <th>PC5</th>\n",
              "      <th>PC6</th>\n",
              "      <th>PC7</th>\n",
              "      <th>PC8</th>\n",
              "      <th>PC9</th>\n",
              "      <th>PC10</th>\n",
              "      <th>...</th>\n",
              "      <th>PC12</th>\n",
              "      <th>PC13</th>\n",
              "      <th>PC14</th>\n",
              "      <th>PC15</th>\n",
              "      <th>PC16</th>\n",
              "      <th>PC17</th>\n",
              "      <th>PC18</th>\n",
              "      <th>PC19</th>\n",
              "      <th>PC20</th>\n",
              "      <th>PC21</th>\n",
              "    </tr>\n",
              "  </thead>\n",
              "  <tbody>\n",
              "    <tr>\n",
              "      <th>Standard deviation</th>\n",
              "      <td>166510.7329</td>\n",
              "      <td>115825.4668</td>\n",
              "      <td>37235.1525</td>\n",
              "      <td>27730.2171</td>\n",
              "      <td>20687.3224</td>\n",
              "      <td>20270.2074</td>\n",
              "      <td>18512.5349</td>\n",
              "      <td>17031.7564</td>\n",
              "      <td>16283.1134</td>\n",
              "      <td>11617.8086</td>\n",
              "      <td>...</td>\n",
              "      <td>8791.4592</td>\n",
              "      <td>8691.5547</td>\n",
              "      <td>8108.4387</td>\n",
              "      <td>9.1157</td>\n",
              "      <td>2.0623</td>\n",
              "      <td>0.9394</td>\n",
              "      <td>0.732</td>\n",
              "      <td>0.5963</td>\n",
              "      <td>0.5123</td>\n",
              "      <td>0.4184</td>\n",
              "    </tr>\n",
              "    <tr>\n",
              "      <th>Proportion of variance</th>\n",
              "      <td>0.6094</td>\n",
              "      <td>0.2949</td>\n",
              "      <td>0.0305</td>\n",
              "      <td>0.0169</td>\n",
              "      <td>0.0094</td>\n",
              "      <td>0.0090</td>\n",
              "      <td>0.0075</td>\n",
              "      <td>0.0064</td>\n",
              "      <td>0.0058</td>\n",
              "      <td>0.0030</td>\n",
              "      <td>...</td>\n",
              "      <td>0.0017</td>\n",
              "      <td>0.0017</td>\n",
              "      <td>0.0014</td>\n",
              "      <td>0.0000</td>\n",
              "      <td>0.0000</td>\n",
              "      <td>0.0000</td>\n",
              "      <td>0.000</td>\n",
              "      <td>0.0000</td>\n",
              "      <td>0.0000</td>\n",
              "      <td>0.0000</td>\n",
              "    </tr>\n",
              "    <tr>\n",
              "      <th>Cumulative proportion</th>\n",
              "      <td>0.6094</td>\n",
              "      <td>0.9043</td>\n",
              "      <td>0.9348</td>\n",
              "      <td>0.9517</td>\n",
              "      <td>0.9611</td>\n",
              "      <td>0.9701</td>\n",
              "      <td>0.9776</td>\n",
              "      <td>0.9840</td>\n",
              "      <td>0.9898</td>\n",
              "      <td>0.9928</td>\n",
              "      <td>...</td>\n",
              "      <td>0.9969</td>\n",
              "      <td>0.9986</td>\n",
              "      <td>1.0000</td>\n",
              "      <td>1.0000</td>\n",
              "      <td>1.0000</td>\n",
              "      <td>1.0000</td>\n",
              "      <td>1.000</td>\n",
              "      <td>1.0000</td>\n",
              "      <td>1.0000</td>\n",
              "      <td>1.0000</td>\n",
              "    </tr>\n",
              "  </tbody>\n",
              "</table>\n",
              "<p>3 rows × 21 columns</p>\n",
              "</div>\n",
              "      <button class=\"colab-df-convert\" onclick=\"convertToInteractive('df-6480c555-cc3e-4e74-be6f-dca33186b82a')\"\n",
              "              title=\"Convert this dataframe to an interactive table.\"\n",
              "              style=\"display:none;\">\n",
              "        \n",
              "  <svg xmlns=\"http://www.w3.org/2000/svg\" height=\"24px\"viewBox=\"0 0 24 24\"\n",
              "       width=\"24px\">\n",
              "    <path d=\"M0 0h24v24H0V0z\" fill=\"none\"/>\n",
              "    <path d=\"M18.56 5.44l.94 2.06.94-2.06 2.06-.94-2.06-.94-.94-2.06-.94 2.06-2.06.94zm-11 1L8.5 8.5l.94-2.06 2.06-.94-2.06-.94L8.5 2.5l-.94 2.06-2.06.94zm10 10l.94 2.06.94-2.06 2.06-.94-2.06-.94-.94-2.06-.94 2.06-2.06.94z\"/><path d=\"M17.41 7.96l-1.37-1.37c-.4-.4-.92-.59-1.43-.59-.52 0-1.04.2-1.43.59L10.3 9.45l-7.72 7.72c-.78.78-.78 2.05 0 2.83L4 21.41c.39.39.9.59 1.41.59.51 0 1.02-.2 1.41-.59l7.78-7.78 2.81-2.81c.8-.78.8-2.07 0-2.86zM5.41 20L4 18.59l7.72-7.72 1.47 1.35L5.41 20z\"/>\n",
              "  </svg>\n",
              "      </button>\n",
              "      \n",
              "  <style>\n",
              "    .colab-df-container {\n",
              "      display:flex;\n",
              "      flex-wrap:wrap;\n",
              "      gap: 12px;\n",
              "    }\n",
              "\n",
              "    .colab-df-convert {\n",
              "      background-color: #E8F0FE;\n",
              "      border: none;\n",
              "      border-radius: 50%;\n",
              "      cursor: pointer;\n",
              "      display: none;\n",
              "      fill: #1967D2;\n",
              "      height: 32px;\n",
              "      padding: 0 0 0 0;\n",
              "      width: 32px;\n",
              "    }\n",
              "\n",
              "    .colab-df-convert:hover {\n",
              "      background-color: #E2EBFA;\n",
              "      box-shadow: 0px 1px 2px rgba(60, 64, 67, 0.3), 0px 1px 3px 1px rgba(60, 64, 67, 0.15);\n",
              "      fill: #174EA6;\n",
              "    }\n",
              "\n",
              "    [theme=dark] .colab-df-convert {\n",
              "      background-color: #3B4455;\n",
              "      fill: #D2E3FC;\n",
              "    }\n",
              "\n",
              "    [theme=dark] .colab-df-convert:hover {\n",
              "      background-color: #434B5C;\n",
              "      box-shadow: 0px 1px 3px 1px rgba(0, 0, 0, 0.15);\n",
              "      filter: drop-shadow(0px 1px 2px rgba(0, 0, 0, 0.3));\n",
              "      fill: #FFFFFF;\n",
              "    }\n",
              "  </style>\n",
              "\n",
              "      <script>\n",
              "        const buttonEl =\n",
              "          document.querySelector('#df-6480c555-cc3e-4e74-be6f-dca33186b82a button.colab-df-convert');\n",
              "        buttonEl.style.display =\n",
              "          google.colab.kernel.accessAllowed ? 'block' : 'none';\n",
              "\n",
              "        async function convertToInteractive(key) {\n",
              "          const element = document.querySelector('#df-6480c555-cc3e-4e74-be6f-dca33186b82a');\n",
              "          const dataTable =\n",
              "            await google.colab.kernel.invokeFunction('convertToInteractive',\n",
              "                                                     [key], {});\n",
              "          if (!dataTable) return;\n",
              "\n",
              "          const docLinkHtml = 'Like what you see? Visit the ' +\n",
              "            '<a target=\"_blank\" href=https://colab.research.google.com/notebooks/data_table.ipynb>data table notebook</a>'\n",
              "            + ' to learn more about interactive tables.';\n",
              "          element.innerHTML = '';\n",
              "          dataTable['output_type'] = 'display_data';\n",
              "          await google.colab.output.renderOutput(dataTable, element);\n",
              "          const docLink = document.createElement('div');\n",
              "          docLink.innerHTML = docLinkHtml;\n",
              "          element.appendChild(docLink);\n",
              "        }\n",
              "      </script>\n",
              "    </div>\n",
              "  </div>\n",
              "  "
            ]
          },
          "metadata": {},
          "execution_count": 32
        }
      ]
    },
    {
      "cell_type": "markdown",
      "source": [
        "Se grafica la informacón para tener una manera visual de evaluar la Desviación estandart."
      ],
      "metadata": {
        "id": "90cu-unmW3wz"
      }
    },
    {
      "cell_type": "code",
      "source": [
        "PC_components = np.arange(pcs.n_components_) + 1\n",
        "#PC_components\n",
        "\n",
        "_ = sns.set(style = 'whitegrid', \n",
        "            font_scale = 1.2\n",
        "            )\n",
        "\n",
        "fig, ax = plt.subplots(figsize=(10, 7))\n",
        "\n",
        "_ = sns.barplot(x = PC_components, \n",
        "                y = pcs.explained_variance_ratio_, \n",
        "                color = 'b'\n",
        "                )\n",
        "\n",
        "_ = sns.lineplot(x = PC_components-1, \n",
        "                 y = np.cumsum(pcs.explained_variance_ratio_), \n",
        "                 color = 'black', \n",
        "                 linestyle = '-', \n",
        "                 linewidth = 2, \n",
        "                 marker = 'o', \n",
        "                 markersize = 8\n",
        "                 )\n",
        "\n",
        "plt.title('Scree Plot')\n",
        "plt.xlabel('N-th Principal Component')\n",
        "plt.ylabel('Variance Explained')\n",
        "plt.ylim(0, 1)\n",
        "plt.show()"
      ],
      "metadata": {
        "colab": {
          "base_uri": "https://localhost:8080/",
          "height": 469
        },
        "id": "nmrYHddCXFpt",
        "outputId": "25115f89-07ea-4843-b396-18e222e6112a"
      },
      "execution_count": 33,
      "outputs": [
        {
          "output_type": "display_data",
          "data": {
            "text/plain": [
              "<Figure size 720x504 with 1 Axes>"
            ],
            "image/png": "[encoded data removed]"
          },
          "metadata": {}
        }
      ]
    },
    {
      "cell_type": "markdown",
      "source": [
        "Conclución de la Gráfica:\n",
        "\n",
        "Con los primeros 2 componentes tenemos el poco más del 90.4% de la información, aunque podemos extendernos a un porcentaje mayor, el porcentaje que cada nuevo aspecto aporta es muy bajo en comparaciòn con los primeros dos."
      ],
      "metadata": {
        "id": "zshqSuORXk-C"
      }
    },
    {
      "cell_type": "markdown",
      "source": [
        "Ahora que ya sabemos que más del 90% de nuestra información está contenida en las primeras dos columnas, podemos comenzar a analizarlas. "
      ],
      "metadata": {
        "id": "J8W9pPDPYyg3"
      }
    },
    {
      "cell_type": "markdown",
      "source": [
        "Se crea un nuevo dataframe a partir de nuestra información limpia, con solo la información que utilizaremos."
      ],
      "metadata": {
        "id": "ix-ZEAtmgBkB"
      }
    },
    {
      "cell_type": "code",
      "source": [
        "analisis_df = newDF.iloc[:,1:3]\n",
        "analisis_df.head()"
      ],
      "metadata": {
        "colab": {
          "base_uri": "https://localhost:8080/",
          "height": 206
        },
        "id": "nTL4-EAgdkGk",
        "outputId": "0cdc6bd4-bbdf-4d6f-f68e-4c4cedf71042"
      },
      "execution_count": 34,
      "outputs": [
        {
          "output_type": "execute_result",
          "data": {
            "text/plain": [
              "       X1    X5\n",
              "0   20000  24.0\n",
              "1  120000  26.0\n",
              "2   90000  34.0\n",
              "3   50000  37.0\n",
              "4   50000  57.0"
            ],
            "text/html": [
              "\n",
              "  <div id=\"df-ef7fa343-8667-497b-857b-94f3617daef8\">\n",
              "    <div class=\"colab-df-container\">\n",
              "      <div>\n",
              "<style scoped>\n",
              "    .dataframe tbody tr th:only-of-type {\n",
              "        vertical-align: middle;\n",
              "    }\n",
              "\n",
              "    .dataframe tbody tr th {\n",
              "        vertical-align: top;\n",
              "    }\n",
              "\n",
              "    .dataframe thead th {\n",
              "        text-align: right;\n",
              "    }\n",
              "</style>\n",
              "<table border=\"1\" class=\"dataframe\">\n",
              "  <thead>\n",
              "    <tr style=\"text-align: right;\">\n",
              "      <th></th>\n",
              "      <th>X1</th>\n",
              "      <th>X5</th>\n",
              "    </tr>\n",
              "  </thead>\n",
              "  <tbody>\n",
              "    <tr>\n",
              "      <th>0</th>\n",
              "      <td>20000</td>\n",
              "      <td>24.0</td>\n",
              "    </tr>\n",
              "    <tr>\n",
              "      <th>1</th>\n",
              "      <td>120000</td>\n",
              "      <td>26.0</td>\n",
              "    </tr>\n",
              "    <tr>\n",
              "      <th>2</th>\n",
              "      <td>90000</td>\n",
              "      <td>34.0</td>\n",
              "    </tr>\n",
              "    <tr>\n",
              "      <th>3</th>\n",
              "      <td>50000</td>\n",
              "      <td>37.0</td>\n",
              "    </tr>\n",
              "    <tr>\n",
              "      <th>4</th>\n",
              "      <td>50000</td>\n",
              "      <td>57.0</td>\n",
              "    </tr>\n",
              "  </tbody>\n",
              "</table>\n",
              "</div>\n",
              "      <button class=\"colab-df-convert\" onclick=\"convertToInteractive('df-ef7fa343-8667-497b-857b-94f3617daef8')\"\n",
              "              title=\"Convert this dataframe to an interactive table.\"\n",
              "              style=\"display:none;\">\n",
              "        \n",
              "  <svg xmlns=\"http://www.w3.org/2000/svg\" height=\"24px\"viewBox=\"0 0 24 24\"\n",
              "       width=\"24px\">\n",
              "    <path d=\"M0 0h24v24H0V0z\" fill=\"none\"/>\n",
              "    <path d=\"M18.56 5.44l.94 2.06.94-2.06 2.06-.94-2.06-.94-.94-2.06-.94 2.06-2.06.94zm-11 1L8.5 8.5l.94-2.06 2.06-.94-2.06-.94L8.5 2.5l-.94 2.06-2.06.94zm10 10l.94 2.06.94-2.06 2.06-.94-2.06-.94-.94-2.06-.94 2.06-2.06.94z\"/><path d=\"M17.41 7.96l-1.37-1.37c-.4-.4-.92-.59-1.43-.59-.52 0-1.04.2-1.43.59L10.3 9.45l-7.72 7.72c-.78.78-.78 2.05 0 2.83L4 21.41c.39.39.9.59 1.41.59.51 0 1.02-.2 1.41-.59l7.78-7.78 2.81-2.81c.8-.78.8-2.07 0-2.86zM5.41 20L4 18.59l7.72-7.72 1.47 1.35L5.41 20z\"/>\n",
              "  </svg>\n",
              "      </button>\n",
              "      \n",
              "  <style>\n",
              "    .colab-df-container {\n",
              "      display:flex;\n",
              "      flex-wrap:wrap;\n",
              "      gap: 12px;\n",
              "    }\n",
              "\n",
              "    .colab-df-convert {\n",
              "      background-color: #E8F0FE;\n",
              "      border: none;\n",
              "      border-radius: 50%;\n",
              "      cursor: pointer;\n",
              "      display: none;\n",
              "      fill: #1967D2;\n",
              "      height: 32px;\n",
              "      padding: 0 0 0 0;\n",
              "      width: 32px;\n",
              "    }\n",
              "\n",
              "    .colab-df-convert:hover {\n",
              "      background-color: #E2EBFA;\n",
              "      box-shadow: 0px 1px 2px rgba(60, 64, 67, 0.3), 0px 1px 3px 1px rgba(60, 64, 67, 0.15);\n",
              "      fill: #174EA6;\n",
              "    }\n",
              "\n",
              "    [theme=dark] .colab-df-convert {\n",
              "      background-color: #3B4455;\n",
              "      fill: #D2E3FC;\n",
              "    }\n",
              "\n",
              "    [theme=dark] .colab-df-convert:hover {\n",
              "      background-color: #434B5C;\n",
              "      box-shadow: 0px 1px 3px 1px rgba(0, 0, 0, 0.15);\n",
              "      filter: drop-shadow(0px 1px 2px rgba(0, 0, 0, 0.3));\n",
              "      fill: #FFFFFF;\n",
              "    }\n",
              "  </style>\n",
              "\n",
              "      <script>\n",
              "        const buttonEl =\n",
              "          document.querySelector('#df-ef7fa343-8667-497b-857b-94f3617daef8 button.colab-df-convert');\n",
              "        buttonEl.style.display =\n",
              "          google.colab.kernel.accessAllowed ? 'block' : 'none';\n",
              "\n",
              "        async function convertToInteractive(key) {\n",
              "          const element = document.querySelector('#df-ef7fa343-8667-497b-857b-94f3617daef8');\n",
              "          const dataTable =\n",
              "            await google.colab.kernel.invokeFunction('convertToInteractive',\n",
              "                                                     [key], {});\n",
              "          if (!dataTable) return;\n",
              "\n",
              "          const docLinkHtml = 'Like what you see? Visit the ' +\n",
              "            '<a target=\"_blank\" href=https://colab.research.google.com/notebooks/data_table.ipynb>data table notebook</a>'\n",
              "            + ' to learn more about interactive tables.';\n",
              "          element.innerHTML = '';\n",
              "          dataTable['output_type'] = 'display_data';\n",
              "          await google.colab.output.renderOutput(dataTable, element);\n",
              "          const docLink = document.createElement('div');\n",
              "          docLink.innerHTML = docLinkHtml;\n",
              "          element.appendChild(docLink);\n",
              "        }\n",
              "      </script>\n",
              "    </div>\n",
              "  </div>\n",
              "  "
            ]
          },
          "metadata": {},
          "execution_count": 34
        }
      ]
    },
    {
      "cell_type": "markdown",
      "source": [
        "Ya que se está tomando la columna de montos de crédito y edad, necesitamos nomralizar los datos a una misma escala.\n",
        "\n"
      ],
      "metadata": {
        "id": "xpCk6v3PmIKP"
      }
    },
    {
      "cell_type": "code",
      "source": [
        "std_df = pd.DataFrame(preprocessing.scale(analisis_df))\n",
        "std_df.columns= [\"X1\",\"X5\"]\n",
        "std_df"
      ],
      "metadata": {
        "colab": {
          "base_uri": "https://localhost:8080/",
          "height": 424
        },
        "id": "fkzZ8p8lmTTO",
        "outputId": "2399dc6e-ba50-45e9-c4d3-f01b6e2e1b6b"
      },
      "execution_count": 35,
      "outputs": [
        {
          "output_type": "execute_result",
          "data": {
            "text/plain": [
              "             X1        X5\n",
              "0     -1.136720 -1.245968\n",
              "1     -0.365981 -1.028980\n",
              "2     -0.597202 -0.161028\n",
              "3     -0.905498  0.164454\n",
              "4     -0.905498  2.334333\n",
              "...         ...       ...\n",
              "29995  0.404759  0.381442\n",
              "29996 -0.134759  0.815417\n",
              "29997 -1.059646  0.164454\n",
              "29998 -0.674276  0.598430\n",
              "29999 -0.905498  1.140899\n",
              "\n",
              "[30000 rows x 2 columns]"
            ],
            "text/html": [
              "\n",
              "  <div id=\"df-1769ae9f-8ffa-4b8e-a55e-d7b66e876ff4\">\n",
              "    <div class=\"colab-df-container\">\n",
              "      <div>\n",
              "<style scoped>\n",
              "    .dataframe tbody tr th:only-of-type {\n",
              "        vertical-align: middle;\n",
              "    }\n",
              "\n",
              "    .dataframe tbody tr th {\n",
              "        vertical-align: top;\n",
              "    }\n",
              "\n",
              "    .dataframe thead th {\n",
              "        text-align: right;\n",
              "    }\n",
              "</style>\n",
              "<table border=\"1\" class=\"dataframe\">\n",
              "  <thead>\n",
              "    <tr style=\"text-align: right;\">\n",
              "      <th></th>\n",
              "      <th>X1</th>\n",
              "      <th>X5</th>\n",
              "    </tr>\n",
              "  </thead>\n",
              "  <tbody>\n",
              "    <tr>\n",
              "      <th>0</th>\n",
              "      <td>-1.136720</td>\n",
              "      <td>-1.245968</td>\n",
              "    </tr>\n",
              "    <tr>\n",
              "      <th>1</th>\n",
              "      <td>-0.365981</td>\n",
              "      <td>-1.028980</td>\n",
              "    </tr>\n",
              "    <tr>\n",
              "      <th>2</th>\n",
              "      <td>-0.597202</td>\n",
              "      <td>-0.161028</td>\n",
              "    </tr>\n",
              "    <tr>\n",
              "      <th>3</th>\n",
              "      <td>-0.905498</td>\n",
              "      <td>0.164454</td>\n",
              "    </tr>\n",
              "    <tr>\n",
              "      <th>4</th>\n",
              "      <td>-0.905498</td>\n",
              "      <td>2.334333</td>\n",
              "    </tr>\n",
              "    <tr>\n",
              "      <th>...</th>\n",
              "      <td>...</td>\n",
              "      <td>...</td>\n",
              "    </tr>\n",
              "    <tr>\n",
              "      <th>29995</th>\n",
              "      <td>0.404759</td>\n",
              "      <td>0.381442</td>\n",
              "    </tr>\n",
              "    <tr>\n",
              "      <th>29996</th>\n",
              "      <td>-0.134759</td>\n",
              "      <td>0.815417</td>\n",
              "    </tr>\n",
              "    <tr>\n",
              "      <th>29997</th>\n",
              "      <td>-1.059646</td>\n",
              "      <td>0.164454</td>\n",
              "    </tr>\n",
              "    <tr>\n",
              "      <th>29998</th>\n",
              "      <td>-0.674276</td>\n",
              "      <td>0.598430</td>\n",
              "    </tr>\n",
              "    <tr>\n",
              "      <th>29999</th>\n",
              "      <td>-0.905498</td>\n",
              "      <td>1.140899</td>\n",
              "    </tr>\n",
              "  </tbody>\n",
              "</table>\n",
              "<p>30000 rows × 2 columns</p>\n",
              "</div>\n",
              "      <button class=\"colab-df-convert\" onclick=\"convertToInteractive('df-1769ae9f-8ffa-4b8e-a55e-d7b66e876ff4')\"\n",
              "              title=\"Convert this dataframe to an interactive table.\"\n",
              "              style=\"display:none;\">\n",
              "        \n",
              "  <svg xmlns=\"http://www.w3.org/2000/svg\" height=\"24px\"viewBox=\"0 0 24 24\"\n",
              "       width=\"24px\">\n",
              "    <path d=\"M0 0h24v24H0V0z\" fill=\"none\"/>\n",
              "    <path d=\"M18.56 5.44l.94 2.06.94-2.06 2.06-.94-2.06-.94-.94-2.06-.94 2.06-2.06.94zm-11 1L8.5 8.5l.94-2.06 2.06-.94-2.06-.94L8.5 2.5l-.94 2.06-2.06.94zm10 10l.94 2.06.94-2.06 2.06-.94-2.06-.94-.94-2.06-.94 2.06-2.06.94z\"/><path d=\"M17.41 7.96l-1.37-1.37c-.4-.4-.92-.59-1.43-.59-.52 0-1.04.2-1.43.59L10.3 9.45l-7.72 7.72c-.78.78-.78 2.05 0 2.83L4 21.41c.39.39.9.59 1.41.59.51 0 1.02-.2 1.41-.59l7.78-7.78 2.81-2.81c.8-.78.8-2.07 0-2.86zM5.41 20L4 18.59l7.72-7.72 1.47 1.35L5.41 20z\"/>\n",
              "  </svg>\n",
              "      </button>\n",
              "      \n",
              "  <style>\n",
              "    .colab-df-container {\n",
              "      display:flex;\n",
              "      flex-wrap:wrap;\n",
              "      gap: 12px;\n",
              "    }\n",
              "\n",
              "    .colab-df-convert {\n",
              "      background-color: #E8F0FE;\n",
              "      border: none;\n",
              "      border-radius: 50%;\n",
              "      cursor: pointer;\n",
              "      display: none;\n",
              "      fill: #1967D2;\n",
              "      height: 32px;\n",
              "      padding: 0 0 0 0;\n",
              "      width: 32px;\n",
              "    }\n",
              "\n",
              "    .colab-df-convert:hover {\n",
              "      background-color: #E2EBFA;\n",
              "      box-shadow: 0px 1px 2px rgba(60, 64, 67, 0.3), 0px 1px 3px 1px rgba(60, 64, 67, 0.15);\n",
              "      fill: #174EA6;\n",
              "    }\n",
              "\n",
              "    [theme=dark] .colab-df-convert {\n",
              "      background-color: #3B4455;\n",
              "      fill: #D2E3FC;\n",
              "    }\n",
              "\n",
              "    [theme=dark] .colab-df-convert:hover {\n",
              "      background-color: #434B5C;\n",
              "      box-shadow: 0px 1px 3px 1px rgba(0, 0, 0, 0.15);\n",
              "      filter: drop-shadow(0px 1px 2px rgba(0, 0, 0, 0.3));\n",
              "      fill: #FFFFFF;\n",
              "    }\n",
              "  </style>\n",
              "\n",
              "      <script>\n",
              "        const buttonEl =\n",
              "          document.querySelector('#df-1769ae9f-8ffa-4b8e-a55e-d7b66e876ff4 button.colab-df-convert');\n",
              "        buttonEl.style.display =\n",
              "          google.colab.kernel.accessAllowed ? 'block' : 'none';\n",
              "\n",
              "        async function convertToInteractive(key) {\n",
              "          const element = document.querySelector('#df-1769ae9f-8ffa-4b8e-a55e-d7b66e876ff4');\n",
              "          const dataTable =\n",
              "            await google.colab.kernel.invokeFunction('convertToInteractive',\n",
              "                                                     [key], {});\n",
              "          if (!dataTable) return;\n",
              "\n",
              "          const docLinkHtml = 'Like what you see? Visit the ' +\n",
              "            '<a target=\"_blank\" href=https://colab.research.google.com/notebooks/data_table.ipynb>data table notebook</a>'\n",
              "            + ' to learn more about interactive tables.';\n",
              "          element.innerHTML = '';\n",
              "          dataTable['output_type'] = 'display_data';\n",
              "          await google.colab.output.renderOutput(dataTable, element);\n",
              "          const docLink = document.createElement('div');\n",
              "          docLink.innerHTML = docLinkHtml;\n",
              "          element.appendChild(docLink);\n",
              "        }\n",
              "      </script>\n",
              "    </div>\n",
              "  </div>\n",
              "  "
            ]
          },
          "metadata": {},
          "execution_count": 35
        }
      ]
    },
    {
      "cell_type": "markdown",
      "source": [
        "Se calcula la vairanza de nuestros datos"
      ],
      "metadata": {
        "id": "9oZ8v_Fdhw-X"
      }
    },
    {
      "cell_type": "code",
      "source": [
        "Variance = np.cov([std_df.X1, std_df.X5])\n",
        "print(\"Arreglo de Varianza: \\n\" + str(Variance))\n",
        "\n",
        "t= std_df.var().sum() #Cálculo total de Varianza\n",
        "varX1 =Variance[0][0] #Varianza Total de X1\n",
        "varX5 = Variance[1][1] #Varianza Total de X5\n",
        "\n",
        "print(\"\\n\")\n",
        "print('Total Varience \\t\\t:', t.round(2) )\n",
        "print('Varience prop. of X1 \\t:', ((varX1/t)*100).round(2),'%' )\n",
        "print('Varience prop. of X5 \\t:', ((varX5/t)*100).round(2),'%' )"
      ],
      "metadata": {
        "colab": {
          "base_uri": "https://localhost:8080/"
        },
        "id": "RZ7m_b6wh2Ks",
        "outputId": "b4a9e912-2fe2-4833-fc6e-21728d088c93"
      },
      "execution_count": 36,
      "outputs": [
        {
          "output_type": "stream",
          "name": "stdout",
          "text": [
            "Arreglo de Varianza: \n",
            "[[1.00003333 0.14466728]\n",
            " [0.14466728 1.00003333]]\n",
            "\n",
            "\n",
            "Total Varience \t\t: 2.0\n",
            "Varience prop. of X1 \t: 50.0 %\n",
            "Varience prop. of X5 \t: 50.0 %\n"
          ]
        }
      ]
    },
    {
      "cell_type": "markdown",
      "source": [
        "Graficamos nuestra información normalizada"
      ],
      "metadata": {
        "id": "M_LM8jIAq1xY"
      }
    },
    {
      "cell_type": "code",
      "source": [
        "p = sns.regplot(data = df,  \n",
        "                x = std_df.X1, \n",
        "                y = std_df.X5\n",
        "               ) \n",
        "p"
      ],
      "metadata": {
        "colab": {
          "base_uri": "https://localhost:8080/",
          "height": 310
        },
        "id": "UzY6diWLrPcT",
        "outputId": "a4afb144-9998-4da1-d852-fbf1ad1ad2d2"
      },
      "execution_count": 37,
      "outputs": [
        {
          "output_type": "execute_result",
          "data": {
            "text/plain": [
              "<matplotlib.axes._subplots.AxesSubplot at 0x7f1ad2e3c8d0>"
            ]
          },
          "metadata": {},
          "execution_count": 37
        },
        {
          "output_type": "display_data",
          "data": {
            "text/plain": [
              "<Figure size 432x288 with 1 Axes>"
            ],
            "image/png": "[encoded data removed]"
          },
          "metadata": {}
        }
      ]
    },
    {
      "cell_type": "markdown",
      "source": [
        "Vamos a describir nuestra información"
      ],
      "metadata": {
        "id": "-fiGIGqeuBlM"
      }
    },
    {
      "cell_type": "code",
      "source": [
        "pcs = PCA(n_components=2)\n",
        "\n",
        "pcs.fit(std_df[['X1', 'X5']])\n",
        "\n",
        "pcsSummary = pd.DataFrame({'Standard deviation': np.sqrt(pcs.explained_variance_),\n",
        "                          'Proportion of variance': pcs.explained_variance_ratio_,\n",
        "                          'Cumulative proportion': np.cumsum(pcs.explained_variance_ratio_)#column \n",
        "                          }\n",
        "                          )\n",
        "pcsSummary = pcsSummary.transpose()\n",
        "pcsSummary.columns = [\"X1\", \"X5\"]\n",
        "pcsSummary"
      ],
      "metadata": {
        "colab": {
          "base_uri": "https://localhost:8080/",
          "height": 143
        },
        "id": "GXSOccnFuJ_B",
        "outputId": "98a68804-5a8d-4c43-e51a-da267f3cda1b"
      },
      "execution_count": 38,
      "outputs": [
        {
          "output_type": "execute_result",
          "data": {
            "text/plain": [
              "                              X1        X5\n",
              "Standard deviation      1.069907  0.924860\n",
              "Proportion of variance  0.572331  0.427669\n",
              "Cumulative proportion   0.572331  1.000000"
            ],
            "text/html": [
              "\n",
              "  <div id=\"df-8e23c5f6-3a89-46fd-9ac7-c96a15b16ecb\">\n",
              "    <div class=\"colab-df-container\">\n",
              "      <div>\n",
              "<style scoped>\n",
              "    .dataframe tbody tr th:only-of-type {\n",
              "        vertical-align: middle;\n",
              "    }\n",
              "\n",
              "    .dataframe tbody tr th {\n",
              "        vertical-align: top;\n",
              "    }\n",
              "\n",
              "    .dataframe thead th {\n",
              "        text-align: right;\n",
              "    }\n",
              "</style>\n",
              "<table border=\"1\" class=\"dataframe\">\n",
              "  <thead>\n",
              "    <tr style=\"text-align: right;\">\n",
              "      <th></th>\n",
              "      <th>X1</th>\n",
              "      <th>X5</th>\n",
              "    </tr>\n",
              "  </thead>\n",
              "  <tbody>\n",
              "    <tr>\n",
              "      <th>Standard deviation</th>\n",
              "      <td>1.069907</td>\n",
              "      <td>0.924860</td>\n",
              "    </tr>\n",
              "    <tr>\n",
              "      <th>Proportion of variance</th>\n",
              "      <td>0.572331</td>\n",
              "      <td>0.427669</td>\n",
              "    </tr>\n",
              "    <tr>\n",
              "      <th>Cumulative proportion</th>\n",
              "      <td>0.572331</td>\n",
              "      <td>1.000000</td>\n",
              "    </tr>\n",
              "  </tbody>\n",
              "</table>\n",
              "</div>\n",
              "      <button class=\"colab-df-convert\" onclick=\"convertToInteractive('df-8e23c5f6-3a89-46fd-9ac7-c96a15b16ecb')\"\n",
              "              title=\"Convert this dataframe to an interactive table.\"\n",
              "              style=\"display:none;\">\n",
              "        \n",
              "  <svg xmlns=\"http://www.w3.org/2000/svg\" height=\"24px\"viewBox=\"0 0 24 24\"\n",
              "       width=\"24px\">\n",
              "    <path d=\"M0 0h24v24H0V0z\" fill=\"none\"/>\n",
              "    <path d=\"M18.56 5.44l.94 2.06.94-2.06 2.06-.94-2.06-.94-.94-2.06-.94 2.06-2.06.94zm-11 1L8.5 8.5l.94-2.06 2.06-.94-2.06-.94L8.5 2.5l-.94 2.06-2.06.94zm10 10l.94 2.06.94-2.06 2.06-.94-2.06-.94-.94-2.06-.94 2.06-2.06.94z\"/><path d=\"M17.41 7.96l-1.37-1.37c-.4-.4-.92-.59-1.43-.59-.52 0-1.04.2-1.43.59L10.3 9.45l-7.72 7.72c-.78.78-.78 2.05 0 2.83L4 21.41c.39.39.9.59 1.41.59.51 0 1.02-.2 1.41-.59l7.78-7.78 2.81-2.81c.8-.78.8-2.07 0-2.86zM5.41 20L4 18.59l7.72-7.72 1.47 1.35L5.41 20z\"/>\n",
              "  </svg>\n",
              "      </button>\n",
              "      \n",
              "  <style>\n",
              "    .colab-df-container {\n",
              "      display:flex;\n",
              "      flex-wrap:wrap;\n",
              "      gap: 12px;\n",
              "    }\n",
              "\n",
              "    .colab-df-convert {\n",
              "      background-color: #E8F0FE;\n",
              "      border: none;\n",
              "      border-radius: 50%;\n",
              "      cursor: pointer;\n",
              "      display: none;\n",
              "      fill: #1967D2;\n",
              "      height: 32px;\n",
              "      padding: 0 0 0 0;\n",
              "      width: 32px;\n",
              "    }\n",
              "\n",
              "    .colab-df-convert:hover {\n",
              "      background-color: #E2EBFA;\n",
              "      box-shadow: 0px 1px 2px rgba(60, 64, 67, 0.3), 0px 1px 3px 1px rgba(60, 64, 67, 0.15);\n",
              "      fill: #174EA6;\n",
              "    }\n",
              "\n",
              "    [theme=dark] .colab-df-convert {\n",
              "      background-color: #3B4455;\n",
              "      fill: #D2E3FC;\n",
              "    }\n",
              "\n",
              "    [theme=dark] .colab-df-convert:hover {\n",
              "      background-color: #434B5C;\n",
              "      box-shadow: 0px 1px 3px 1px rgba(0, 0, 0, 0.15);\n",
              "      filter: drop-shadow(0px 1px 2px rgba(0, 0, 0, 0.3));\n",
              "      fill: #FFFFFF;\n",
              "    }\n",
              "  </style>\n",
              "\n",
              "      <script>\n",
              "        const buttonEl =\n",
              "          document.querySelector('#df-8e23c5f6-3a89-46fd-9ac7-c96a15b16ecb button.colab-df-convert');\n",
              "        buttonEl.style.display =\n",
              "          google.colab.kernel.accessAllowed ? 'block' : 'none';\n",
              "\n",
              "        async function convertToInteractive(key) {\n",
              "          const element = document.querySelector('#df-8e23c5f6-3a89-46fd-9ac7-c96a15b16ecb');\n",
              "          const dataTable =\n",
              "            await google.colab.kernel.invokeFunction('convertToInteractive',\n",
              "                                                     [key], {});\n",
              "          if (!dataTable) return;\n",
              "\n",
              "          const docLinkHtml = 'Like what you see? Visit the ' +\n",
              "            '<a target=\"_blank\" href=https://colab.research.google.com/notebooks/data_table.ipynb>data table notebook</a>'\n",
              "            + ' to learn more about interactive tables.';\n",
              "          element.innerHTML = '';\n",
              "          dataTable['output_type'] = 'display_data';\n",
              "          await google.colab.output.renderOutput(dataTable, element);\n",
              "          const docLink = document.createElement('div');\n",
              "          docLink.innerHTML = docLinkHtml;\n",
              "          element.appendChild(docLink);\n",
              "        }\n",
              "      </script>\n",
              "    </div>\n",
              "  </div>\n",
              "  "
            ]
          },
          "metadata": {},
          "execution_count": 38
        }
      ]
    },
    {
      "cell_type": "markdown",
      "source": [
        "**4.- Encontrando datos atípicos**"
      ],
      "metadata": {
        "id": "Zgsx8b-fQvfE"
      }
    },
    {
      "cell_type": "markdown",
      "source": [
        "Para realizar el análisis para encontrar los valores atípicos, vamos a utilizar el dataframe que contiene nuestra BD limpia."
      ],
      "metadata": {
        "id": "nvtR6JLeN2m5"
      }
    },
    {
      "cell_type": "markdown",
      "source": [
        "Comenzamos con el valor de \"X1\", con la creación de un histograma y una gráfica de caja:"
      ],
      "metadata": {
        "id": "n8Ol-sVGOPQo"
      }
    },
    {
      "cell_type": "code",
      "source": [
        "atipicoDF = newDF.copy()\n",
        "x1_df = atipicoDF[\"X1\"].value_counts() #se crea un nuevo dataframe con solo la información de la columna \"X1\" analizada\n",
        "\n",
        "\n",
        "print(str(x1_df))\n",
        "print(\"\\n\")\n",
        "print(\"No. de Montos Diferentes: \"+str(len(x1_df))+\"\\n\")\n",
        "print(\"Montos Menos pedidos: \\n\"+str(x1_df.nsmallest(5))+\"\\n\")\n",
        "print(\"No. de Más pedidos: \\n\"+str(x1_df.nlargest(5))+\"\\n\")\n",
        "print(\"Descripción del set: \\n\"+str(x1_df.describe())+\"\\n\")\n",
        "print(\"\\n\")\n",
        "\n",
        "\n",
        "\n",
        "#Se crean las gráficas\n",
        "credit_bins=[500,1000,1500,2000,2500,3000,3500,4000,4500]\n",
        "plt.hist(x1_df,bins=credit_bins)\n",
        "plt.show()\n",
        "print(\"\\n\")\n",
        "plt.boxplot(x1_df, labels = [\"X1\"], showmeans= True)\n",
        "plt.show()\n",
        "\n",
        "\n"
      ],
      "metadata": {
        "colab": {
          "base_uri": "https://localhost:8080/",
          "height": 1000
        },
        "id": "mr40jxfEOamF",
        "outputId": "56cef91c-bb86-4c4f-b8c5-249ec7f4bb97"
      },
      "execution_count": 72,
      "outputs": [
        {
          "output_type": "stream",
          "name": "stdout",
          "text": [
            "50000      3365\n",
            "20000      1976\n",
            "30000      1610\n",
            "80000      1567\n",
            "200000     1528\n",
            "           ... \n",
            "730000        2\n",
            "1000000       1\n",
            "327680        1\n",
            "760000        1\n",
            "690000        1\n",
            "Name: X1, Length: 81, dtype: int64\n",
            "\n",
            "\n",
            "No. de Montos Diferentes: 81\n",
            "\n",
            "Montos Menos pedidos: \n",
            "1000000    1\n",
            "327680     1\n",
            "760000     1\n",
            "690000     1\n",
            "740000     2\n",
            "Name: X1, dtype: int64\n",
            "\n",
            "No. de Más pedidos: \n",
            "50000     3365\n",
            "20000     1976\n",
            "30000     1610\n",
            "80000     1567\n",
            "200000    1528\n",
            "Name: X1, dtype: int64\n",
            "\n",
            "Descripción del set: \n",
            "count      81.000000\n",
            "mean      370.370370\n",
            "std       549.650263\n",
            "min         1.000000\n",
            "25%         8.000000\n",
            "50%       161.000000\n",
            "75%       588.000000\n",
            "max      3365.000000\n",
            "Name: X1, dtype: float64\n",
            "\n",
            "\n",
            "\n"
          ]
        },
        {
          "output_type": "display_data",
          "data": {
            "text/plain": [
              "<Figure size 432x288 with 1 Axes>"
            ],
            "image/png": "[encoded data removed]"
          },
          "metadata": {}
        },
        {
          "output_type": "stream",
          "name": "stdout",
          "text": [
            "\n",
            "\n"
          ]
        },
        {
          "output_type": "display_data",
          "data": {
            "text/plain": [
              "<Figure size 432x288 with 1 Axes>"
            ],
            "image/png": "[encoded data removed]"
          },
          "metadata": {}
        }
      ]
    },
    {
      "cell_type": "markdown",
      "source": [
        "Analisis para \"X5\" (Edad)"
      ],
      "metadata": {
        "id": "oL_PFVpILID6"
      }
    },
    {
      "cell_type": "code",
      "source": [
        "x5_df = np.round(atipicoDF[\"X5\"], decimals=0)\n",
        "x5_df = x5_df.value_counts()\n",
        "print(str(x5_df))\n",
        "print(\"\\n\")\n",
        "print(\"No. de Edades Distintas: \"+str(len(x5_df))+\"\\n\")\n",
        "print(\"Edades con menos aplicaciones: \\n\"+str(x5_df.nsmallest(5))+\"\\n\")\n",
        "print(\"Edades con más aplicaciones: \\n\"+str(x5_df.nlargest(5))+\"\\n\")\n",
        "print(\"Descripción del set: \\n\"+str(x5_df.describe())+\"\\n\")\n",
        "print(\"\\n\")\n",
        "age_bins = [10,20,30,40,50,60,70,80,90,100]\n",
        "plt.hist(x5_df, bins=age_bins)\n",
        "plt.show()\n",
        "print(\"\\n\")\n",
        "plt.boxplot(x5_df, labels = [\"X5\"], showmeans= True)\n",
        "plt.show()"
      ],
      "metadata": {
        "id": "Bl-GxxY3wbzN",
        "colab": {
          "base_uri": "https://localhost:8080/",
          "height": 1000
        },
        "outputId": "49e4827c-9f80-4b6f-98d6-6ffa47787a97"
      },
      "execution_count": 73,
      "outputs": [
        {
          "output_type": "stream",
          "name": "stdout",
          "text": [
            "29.0    1605\n",
            "27.0    1477\n",
            "28.0    1409\n",
            "30.0    1395\n",
            "26.0    1256\n",
            "31.0    1217\n",
            "25.0    1186\n",
            "34.0    1162\n",
            "32.0    1158\n",
            "33.0    1146\n",
            "24.0    1127\n",
            "35.0    1118\n",
            "36.0    1108\n",
            "37.0    1041\n",
            "39.0     954\n",
            "38.0     943\n",
            "23.0     931\n",
            "40.0     870\n",
            "41.0     823\n",
            "42.0     794\n",
            "44.0     700\n",
            "43.0     669\n",
            "45.0     617\n",
            "46.0     570\n",
            "22.0     560\n",
            "47.0     499\n",
            "48.0     466\n",
            "49.0     452\n",
            "50.0     411\n",
            "51.0     340\n",
            "53.0     325\n",
            "52.0     304\n",
            "54.0     247\n",
            "55.0     209\n",
            "56.0     178\n",
            "58.0     122\n",
            "57.0     122\n",
            "59.0      83\n",
            "60.0      67\n",
            "21.0      67\n",
            "61.0      56\n",
            "62.0      44\n",
            "63.0      31\n",
            "64.0      31\n",
            "66.0      25\n",
            "65.0      24\n",
            "67.0      16\n",
            "69.0      15\n",
            "70.0      10\n",
            "68.0       5\n",
            "73.0       4\n",
            "72.0       3\n",
            "75.0       3\n",
            "71.0       3\n",
            "79.0       1\n",
            "74.0       1\n",
            "Name: X5, dtype: int64\n",
            "\n",
            "\n",
            "No. de Edades Distintas: 56\n",
            "\n",
            "Edades con menos aplicaciones: \n",
            "79.0    1\n",
            "74.0    1\n",
            "72.0    3\n",
            "75.0    3\n",
            "71.0    3\n",
            "Name: X5, dtype: int64\n",
            "\n",
            "Edades con más aplicaciones: \n",
            "29.0    1605\n",
            "27.0    1477\n",
            "28.0    1409\n",
            "30.0    1395\n",
            "26.0    1256\n",
            "Name: X5, dtype: int64\n",
            "\n",
            "Descripción del set: \n",
            "count      56.000000\n",
            "mean      535.714286\n",
            "std       503.623117\n",
            "min         1.000000\n",
            "25%        40.750000\n",
            "50%       431.500000\n",
            "75%       975.750000\n",
            "max      1605.000000\n",
            "Name: X5, dtype: float64\n",
            "\n",
            "\n",
            "\n"
          ]
        },
        {
          "output_type": "display_data",
          "data": {
            "text/plain": [
              "<Figure size 432x288 with 1 Axes>"
            ],
            "image/png": "[encoded data removed]"
          },
          "metadata": {}
        },
        {
          "output_type": "stream",
          "name": "stdout",
          "text": [
            "\n",
            "\n"
          ]
        },
        {
          "output_type": "display_data",
          "data": {
            "text/plain": [
              "<Figure size 432x288 with 1 Axes>"
            ],
            "image/png": "[encoded data removed]"
          },
          "metadata": {}
        }
      ]
    }
  ]
}